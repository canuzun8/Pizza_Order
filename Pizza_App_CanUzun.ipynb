{
  "nbformat": 4,
  "nbformat_minor": 0,
  "metadata": {
    "colab": {
      "provenance": [],
      "authorship_tag": "ABX9TyNZypBr5SaRqS0Dz1j3FOib",
      "include_colab_link": true
    },
    "kernelspec": {
      "name": "python3",
      "display_name": "Python 3"
    },
    "language_info": {
      "name": "python"
    }
  },
  "cells": [
    {
      "cell_type": "markdown",
      "metadata": {
        "id": "view-in-github",
        "colab_type": "text"
      },
      "source": [
        "<a href=\"https://colab.research.google.com/github/canuzun8/Pizza_Order/blob/main/Pizza_App_CanUzun.ipynb\" target=\"_parent\"><img src=\"https://colab.research.google.com/assets/colab-badge.svg\" alt=\"Open In Colab\"/></a>"
      ]
    },
    {
      "cell_type": "code",
      "source": [
        "#Pizza Üst Sınıfının Oluşturulması\n",
        "class Pizza:\n",
        "  def __init__(self, description, cost):\n",
        "    self.description=description\n",
        "    self.cost=cost\n",
        "\n",
        "  #Menü ve Decorator Listesinin Açıklama ve Ücretleri ile Yazdırılması\n",
        "  def menu_info():\n",
        "    print(\"Fiore Pizza' ya Hoş Geldiniz!\\n\\nMenü\\n\")\n",
        "    print(\"Klasik \\nPepperoni, Mantar, Zeytin, Mozerella, İnce Hamur : 110.0\\n\\nMargarita\\nMozerella Peyniri, İnce Hamur : 100.0\\n\\nTürk Pizza\\nFüme Et, Mozerella Peyniri, Roka, Klasik Hamur : 150.0\\n\\nPizza Rosso\\nKurutulmuş Domates, Kramelize Soğan, Mozarella Peyniri, Klasik Hamur : 135.0\\n\")\n",
        "    print(\"Decorator seçimi : \\nMantar\\nZeytin\\nMısır\\nKeçi Peyniri\\n\")\n",
        "  \n",
        "  \n",
        "  #Decription methodunun oluşturulması  \n",
        "  def get_description(self):\n",
        "    return self.description\n",
        "\n",
        "  #Get_cost Methodunun oluşturulması\n",
        "  def get_cost(self):\n",
        "    return str(self.cost)+\" TL\" \n",
        "\n",
        "  #Sipariş Verme Sisteminin Oluşturulması\n",
        "  def get_order():\n",
        "    global i\n",
        "    global j\n",
        "    global sos\n",
        "    i = []\n",
        "    j = []\n",
        "    sos = []\n",
        "\n",
        "    while True:\n",
        "      pizza_ismi = input(\"Pizza Tipini Seçebilirsiniz : \")\n",
        "      pizza_sayısı  = input(\"Pizza Sayısını seçin : \")\n",
        "      i.append(pizza_ismi)\n",
        "      j.append(pizza_sayısı)\n",
        "      siparis_devam = input(\"Pizza Seçmeye Devam Etmek İstiyor musun?: y/n \")\n",
        "      if siparis_devam != \"n\":\n",
        "        continue\n",
        "      else:\n",
        "        break\n",
        "\n",
        "    while True:\n",
        "      sos_yeni = input(\"Lütfen Menüden Bir Decorator Seçiniz : \")\n",
        "      sos.append(sos_yeni)\n",
        "      siparis_devam = input(\"Decorator Seçmeye Devam Etmek İstiyor musun? : y/n \")\n",
        "      if siparis_devam != \"n\":\n",
        "        continue\n",
        "      else:\n",
        "        break\n",
        "\n",
        "    print(\"Siparişiniz oluşturuldu!\")\n",
        "    return (i, j, sos)\n",
        "\n",
        "  #Toplam Ücretin Hesaplanın Yazdırılması\n",
        "  def total_cost():\n",
        "    global i\n",
        "    global j\n",
        "    global sos\n",
        "    total_cost = 0\n",
        "\n",
        "    #pizza seçimi kontrol ve ücret hesabı\n",
        "    if \"Klasik\" in i:\n",
        "      total_cost += Klasik.cost*float(j[i.index(\"Klasik\")])\n",
        "    if \"Margarita\" in i:\n",
        "      total_cost += Margarita.cost*float(j[i.index(\"Margarita\")])\n",
        "    if \"Türk Pizza\" in i:\n",
        "      total_cost += TurkPizza.cost*float(j[i.index(\"Türk Pizza\")])\n",
        "    if \"Pizza Rosso\" in i:\n",
        "      total_cost += Rosso.cost*float(j[i.index(\"Pizza Rosso\")])\n",
        "    \n",
        "    #sos seçimi kontrol ve ücret hesabı\n",
        "    if \"Mantar\" in sos:\n",
        "      total_cost += Mantar.cost\n",
        "    if \"Zeytin\" in sos:\n",
        "      total_cost += Zeytin.cost\n",
        "    if \"Mısır\" in sos:\n",
        "      total_cost += Misir.cost\n",
        "    if \"Keçi Peyniri\" in sos:\n",
        "      total_cost += KeciPeyniri.cost                \n",
        "    print(\"\\nSipariş Ücreti:\" + str(total_cost) + \" TL\")"
      ],
      "metadata": {
        "id": "-g7ZwLoXwC0k"
      },
      "execution_count": 68,
      "outputs": []
    },
    {
      "cell_type": "code",
      "source": [
        "#Pizza Alt Sınıflarının Oluşturulması\n",
        "class Klasik(Pizza):\n",
        "  description = \"Klasik Pizza:\\nPepperoni, Mantar, Zeytin, Mozerella, İnce Hamur\"\n",
        "  cost =110.0\n",
        "\n",
        "class Margarita(Pizza):\n",
        "  description = \"Margarita:\\nMozerella Peyniri, İnce Hamur\"\n",
        "  cost =100.0\n",
        "\n",
        "class TurkPizza(Pizza):\n",
        "  description = \"Türk Pizza:\\nFüme Et, Mozerella Peyniri, Roka, Klasik Hamur\"\n",
        "  cost =150.0\n",
        "\n",
        "class Rosso(Pizza):\n",
        "  description = \"Pizza Rosso:\\nKurutulmuş Domates, Kramelize Soğan, Mozarella Peyniri, Klasik Hamur\"\n",
        "  cost =135.0"
      ],
      "metadata": {
        "id": "3EWQbnPiGO8P"
      },
      "execution_count": 69,
      "outputs": []
    },
    {
      "cell_type": "code",
      "source": [
        "#Decorator Üst Sınıfının Oluşturulması\n",
        "class Decorator:\n",
        "  def __init__(self,cost):\n",
        "    self.cost=cost"
      ],
      "metadata": {
        "id": "KanfGhEsMV4R"
      },
      "execution_count": 70,
      "outputs": []
    },
    {
      "cell_type": "code",
      "source": [
        "#Decorator Alt Sınıflarının Oluşturulması\n",
        "class Mantar(Decorator):\n",
        "  cost =5.0\n",
        "\n",
        "class Zeytin(Decorator):\n",
        "  cost =2.0\n",
        "\n",
        "class Misir(Decorator):\n",
        "  cost =2.0\n",
        "\n",
        "class KeciPeyniri(Decorator):\n",
        "  cost =10.0"
      ],
      "metadata": {
        "id": "NPRB_ChvM6vs"
      },
      "execution_count": 71,
      "outputs": []
    },
    {
      "cell_type": "code",
      "source": [
        "#Menünün yazdırılması, Siparişin verilmesi, Sipariş Ücretinin Hesaplanıp Yazdırılması.\n",
        "if __name__== \"__main__\":\n",
        "  Pizza.menu_info()\n",
        "  Pizza.get_order()\n",
        "  Pizza.total_cost()"
      ],
      "metadata": {
        "id": "ZVC3r1-kCADv",
        "colab": {
          "base_uri": "https://localhost:8080/"
        },
        "outputId": "a863d08a-16d8-4c81-f655-0897240d2c1a"
      },
      "execution_count": 72,
      "outputs": [
        {
          "output_type": "stream",
          "name": "stdout",
          "text": [
            "Fiore Pizza' ya Hoş Geldiniz!\n",
            "\n",
            "Menü\n",
            "\n",
            "Klasik \n",
            "Pepperoni, Mantar, Zeytin, Mozerella, İnce Hamur : 110.0\n",
            "\n",
            "Margarita\n",
            "Mozerella Peyniri, İnce Hamur : 100.0\n",
            "\n",
            "Türk Pizza\n",
            "Füme Et, Mozerella Peyniri, Roka, Klasik Hamur : 150.0\n",
            "\n",
            "Pizza Rosso\n",
            "Kurutulmuş Domates, Kramelize Soğan, Mozarella Peyniri, Klasik Hamur : 135.0\n",
            "\n",
            "Decorator seçimi : \n",
            "Mantar\n",
            "Zeytin\n",
            "Mısır\n",
            "Keçi Peyniri\n",
            "\n",
            "Pizza Tipini Seçebilirsiniz : Klasik\n",
            "Pizza Sayısını seçin : 1\n",
            "Pizza Seçmeye Devam Etmek İstiyor musun?: y/n y\n",
            "Pizza Tipini Seçebilirsiniz : Margarita\n",
            "Pizza Sayısını seçin : 1\n",
            "Pizza Seçmeye Devam Etmek İstiyor musun?: y/n n\n",
            "Lütfen Menüden Bir Decorator Seçiniz : Mantar\n",
            "Decorator Seçmeye Devam Etmek İstiyor musun? : y/n n\n",
            "Siparişiniz oluşturuldu!\n",
            "\n",
            "Sipariş Ücreti:215.0 TL\n"
          ]
        }
      ]
    }
  ]
}